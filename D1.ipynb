{
 "cells": [
  {
   "cell_type": "code",
   "execution_count": 1,
   "id": "44605798",
   "metadata": {},
   "outputs": [
    {
     "name": "stdout",
     "output_type": "stream",
     "text": [
      "enter a number3\n",
      "found at pos 2\n"
     ]
    }
   ],
   "source": [
    "#linear search\n",
    "list=[4,3,12,34,56,77,89]\n",
    "n=int(input('enter a number'))\n",
    "for i in range(len(list)):\n",
    "    if list[i]==n:\n",
    "        print('found at pos',i+1)\n",
    "        break\n",
    "else:\n",
    "        print('not found')"
   ]
  },
  {
   "cell_type": "code",
   "execution_count": 4,
   "id": "e70b3909",
   "metadata": {},
   "outputs": [
    {
     "name": "stdout",
     "output_type": "stream",
     "text": [
      "Found at 2\n"
     ]
    }
   ],
   "source": [
    "#binary search\n",
    "pos = -1\n",
    "\n",
    "def search(lst, target):\n",
    "    global pos\n",
    "    l = 0\n",
    "    u = len(lst) - 1\n",
    "    while l <= u:\n",
    "        mid = (l + u) // 2\n",
    "        if lst[mid] == target:\n",
    "            pos = mid\n",
    "            return True\n",
    "        else:\n",
    "            if lst[mid] < target:\n",
    "                l = mid + 1\n",
    "            else:\n",
    "                u = mid - 1\n",
    "    return False\n",
    "\n",
    "my_list = [1, 23, 4, 56, 77, 8]\n",
    "target_number = 4\n",
    "\n",
    "if search(my_list, target_number):\n",
    "    print(\"Found at\", pos )\n",
    "else:\n",
    "    print(\"Not found\")"
   ]
  },
  {
   "cell_type": "code",
   "execution_count": null,
   "id": "5113c5bb",
   "metadata": {},
   "outputs": [],
   "source": []
  }
 ],
 "metadata": {
  "kernelspec": {
   "display_name": "Python 3 (ipykernel)",
   "language": "python",
   "name": "python3"
  },
  "language_info": {
   "codemirror_mode": {
    "name": "ipython",
    "version": 3
   },
   "file_extension": ".py",
   "mimetype": "text/x-python",
   "name": "python",
   "nbconvert_exporter": "python",
   "pygments_lexer": "ipython3",
   "version": "3.10.10"
  }
 },
 "nbformat": 4,
 "nbformat_minor": 5
}
